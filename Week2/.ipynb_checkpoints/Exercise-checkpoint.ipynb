{
 "cells": [
  {
   "cell_type": "markdown",
   "metadata": {},
   "source": [
    "# Problem 1: Write a function thats input is a number and output is:\n",
    "* Return True if the input number is even.\n",
    "* Return False if the input number is odd."
   ]
  },
  {
   "cell_type": "code",
   "execution_count": 5,
   "metadata": {},
   "outputs": [
    {
     "name": "stdout",
     "output_type": "stream",
     "text": [
      "True\n"
     ]
    }
   ],
   "source": [
    "# Solve problem 1 here\n",
    "def num_analysis(x):\n",
    "    if x%2==0:\n",
    "        return True\n",
    "    else:\n",
    "        return False\n",
    "print(num_analysis(2))"
   ]
  },
  {
   "cell_type": "markdown",
   "metadata": {},
   "source": [
    "# Problem 2: Find the sum and the average of this list of numbers.\n",
    "\n",
    "Try doing this using a loop.  Then try doing this without using a loop. "
   ]
  },
  {
   "cell_type": "code",
   "execution_count": 4,
   "metadata": {},
   "outputs": [
    {
     "name": "stdout",
     "output_type": "stream",
     "text": [
      "353 35.3\n",
      "353 35.3\n"
     ]
    }
   ],
   "source": [
    "# Solve problem 2 here:\n",
    "#solve by using a for loop\n",
    "my_list = [1, 5, 10, 55, 88, 44, 42, 50, 20, 38]\n",
    "list_sum=0\n",
    "list_average=0\n",
    "for num in my_list:\n",
    "    list_sum = list_sum+num\n",
    "list_average=list_sum/len(my_list)\n",
    "print(list_sum, list_average)\n",
    "\n",
    "#solve without using a loop\n",
    "list_sum=sum(my_list)\n",
    "list_average=list_sum/len(my_list)\n",
    "# Keep this as your last line in this cell.\n",
    "print(list_sum, list_average)"
   ]
  },
  {
   "cell_type": "markdown",
   "metadata": {},
   "source": [
    "# Problem 3:  Using a dictionary, count the words in this sentence. \n",
    "* Hint, you can use `.split()` to split a string into a list. \n"
   ]
  },
  {
   "cell_type": "code",
   "execution_count": 3,
   "metadata": {},
   "outputs": [
    {
     "name": "stdout",
     "output_type": "stream",
     "text": [
      "72\n"
     ]
    }
   ],
   "source": [
    "# Solve problem 3 here:\n",
    "\n",
    "my_string = '''The Oklahoma City Zoo and Botanical Garden is a zoo and botanical garden located in Oklahoma City's Adventure District in northeast Oklahoma City, Oklahoma. The zoo covers 119 acres (48 ha) and is home to more than 1,900 animals. It is open every day except Thanksgiving, Christmas, and New Year's Day. The Oklahoma City Zoo is an accredited member of the Association of Zoos and Aquariums and the American Alliance of Museums.'''\n",
    "\n",
    "words_arr=my_string.split();\n",
    "print(len(words_arr))"
   ]
  },
  {
   "cell_type": "markdown",
   "metadata": {},
   "source": [
    "# Problem 4: Write a function that input is a number and output returns the following\n",
    "* If the input is divisible by three, return 'fizz'\n",
    "* If the input is divisible by five, return 'buzz'\n",
    "* If the input is divisible by three and by five, return 'fizzbuzz'\n",
    "* If the input is not divisible by three or five, return None."
   ]
  },
  {
   "cell_type": "code",
   "execution_count": 2,
   "metadata": {},
   "outputs": [
    {
     "name": "stdout",
     "output_type": "stream",
     "text": [
      "fizzbuzz\n"
     ]
    }
   ],
   "source": [
    "# Solve Problem 4 here:\n",
    "def num_tester(x):\n",
    "    if x%(3*5)==0:\n",
    "        return \"fizzbuzz\"\n",
    "    elif x%3==0:\n",
    "        return \"fizz\"\n",
    "    elif x%5==0:\n",
    "        return \"buzz\"\n",
    "    else:\n",
    "        return None\n",
    "print(num_tester(30))"
   ]
  },
  {
   "cell_type": "markdown",
   "metadata": {},
   "source": [
    "# Problem 5: \n",
    "Write a function that takes a list and returns a new list that contains all the elements of the first list minus all the duplicates.\n",
    "\n",
    "Example input and expected output\n",
    "\n",
    "input = [\"Michele\", \"Robin\", \"Sara\", \"Michele\"]\n",
    "\n",
    "expected output = ['Michele', 'Robin', 'Sara']\n"
   ]
  },
  {
   "cell_type": "code",
   "execution_count": 1,
   "metadata": {},
   "outputs": [
    {
     "name": "stdout",
     "output_type": "stream",
     "text": [
      "['Michele', 'Robin', 'Sara']\n"
     ]
    }
   ],
   "source": [
    "# Solve problem 5 here:\n",
    "names = [\"Michele\", \"Robin\", \"Sara\", \"Michele\"]\n",
    "\n",
    "def duplication_tester(sample_list):\n",
    "    length=len(sample_list)\n",
    "    index1=0 \n",
    "    index2=1\n",
    "    while(index1!=length):\n",
    "        word=sample_list[index1]\n",
    "        while(index2!=length):\n",
    "            if (str(word)==str(sample_list[index2])):\n",
    "                sample_list.pop(index2)\n",
    "                sample_list.insert(index2,\"\")\n",
    "            index2+=1\n",
    "        index1+=1\n",
    "        index2=index1+1\n",
    "    while '' in sample_list:\n",
    "        sample_list.remove('')\n",
    "    return(sample_list)\n",
    "print(duplication_tester(names))\n"
   ]
  },
  {
   "cell_type": "markdown",
   "metadata": {},
   "source": [
    "# Problem 6: \n",
    "Write a function that takes a list of numbers (for example, a = [5, 10, 15, 20, 25]) and returns a new list of only the first and last elements of the given list.\n",
    "\n",
    "Example input and expected output:\n",
    "\n",
    "input = [5, 10, 15, 20, 25]\n",
    "\n",
    "expected output = [5, 25]"
   ]
  },
  {
   "cell_type": "code",
   "execution_count": 15,
   "metadata": {},
   "outputs": [
    {
     "name": "stdout",
     "output_type": "stream",
     "text": [
      "[5, 25]\n"
     ]
    }
   ],
   "source": [
    "# Solve problem 6 here:\n",
    "\n",
    "input_list = [5, 10, 99, 20, 25]\n",
    "def second_list(sample_list):\n",
    "    if len(sample_list)!=0:\n",
    "        clone_list=[]\n",
    "        clone_list.append(sample_list[0])\n",
    "        clone_list.append(sample_list[len(sample_list)-1])\n",
    "        return clone_list\n",
    "    else:\n",
    "        return \"error\"\n",
    "print(second_list(input_list))\n"
   ]
  },
  {
   "cell_type": "markdown",
   "metadata": {},
   "source": [
    "# Problem 7:  Implement a function that takes as input three variables, and returns the largest of the three. \n",
    "Do this without using the Python max() function! \n",
    "_*Note all three input numbers will always be different, no need to account for a tie._\n",
    "\n",
    "Example input and expected output:\n",
    "\n",
    "input = your_function(1, 5, 10)\n",
    "\n",
    "expected output:  10"
   ]
  },
  {
   "cell_type": "code",
   "execution_count": 24,
   "metadata": {},
   "outputs": [],
   "source": [
    "# Solve Problem 7 here:\n",
    "\n",
    "def your_function(a, b, c):\n",
    "    # Fill in your code below and return max value of a, b, c\n",
    "    mylist=[]\n",
    "    mylist.append(a)\n",
    "    mylist.append(b)\n",
    "    mylist.append(c)\n",
    "    max_num=mylist[0]\n",
    "    for num in mylist:\n",
    "        if num>max_num:\n",
    "            max_num=num\n",
    "    return max_num\n",
    "        \n",
    "    "
   ]
  },
  {
   "cell_type": "code",
   "execution_count": 27,
   "metadata": {},
   "outputs": [
    {
     "name": "stdout",
     "output_type": "stream",
     "text": [
      "10111\n"
     ]
    }
   ],
   "source": [
    "# Test to see if your function works properly.\n",
    "print(your_function(1, 5, 10))"
   ]
  },
  {
   "cell_type": "code",
   "execution_count": null,
   "metadata": {},
   "outputs": [],
   "source": []
  }
 ],
 "metadata": {
  "kernelspec": {
   "display_name": "Python 3",
   "language": "python",
   "name": "python3"
  },
  "language_info": {
   "codemirror_mode": {
    "name": "ipython",
    "version": 3
   },
   "file_extension": ".py",
   "mimetype": "text/x-python",
   "name": "python",
   "nbconvert_exporter": "python",
   "pygments_lexer": "ipython3",
   "version": "3.8.8"
  }
 },
 "nbformat": 4,
 "nbformat_minor": 4
}
